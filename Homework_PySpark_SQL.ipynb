{
  "nbformat": 4,
  "nbformat_minor": 0,
  "metadata": {
    "colab": {
      "provenance": [],
      "authorship_tag": "ABX9TyOJiL2RFi6GPGoex8WSXKqo",
      "include_colab_link": true
    },
    "kernelspec": {
      "name": "python3",
      "display_name": "Python 3"
    },
    "language_info": {
      "name": "python"
    }
  },
  "cells": [
    {
      "cell_type": "markdown",
      "metadata": {
        "id": "view-in-github",
        "colab_type": "text"
      },
      "source": [
        "<a href=\"https://colab.research.google.com/github/etherest18/netology/blob/main/Homework_PySpark_SQL.ipynb\" target=\"_parent\"><img src=\"https://colab.research.google.com/assets/colab-badge.svg\" alt=\"Open In Colab\"/></a>"
      ]
    },
    {
      "cell_type": "code",
      "execution_count": 2,
      "metadata": {
        "id": "e8v0Pj13XQSt"
      },
      "outputs": [],
      "source": [
        "pip install --quiet pyspark"
      ]
    },
    {
      "cell_type": "code",
      "source": [
        "from pyspark.sql import SparkSession\n",
        "\n",
        "spark = SparkSession.builder.appName(\"Practice\").getOrCreate()"
      ],
      "metadata": {
        "id": "iueIBo9PXc0Y"
      },
      "execution_count": 3,
      "outputs": []
    },
    {
      "cell_type": "code",
      "source": [
        "from pyspark import SparkFiles\n",
        "\n",
        "covid_data_file_url = \"https://raw.githubusercontent.com/glincow/netology-spark-sql/main/data/covid-data.csv\"\n",
        "spark.sparkContext.addFile(covid_data_file_url)\n",
        "file_path  = 'file://' + SparkFiles.get('covid-data.csv')\n",
        "df = spark.read.option('inferSchema', 'true').option('header', 'true').csv(file_path)"
      ],
      "metadata": {
        "id": "27Sqlnx9XdHU"
      },
      "execution_count": 4,
      "outputs": []
    },
    {
      "cell_type": "code",
      "source": [
        "from pyspark.sql import functions as F"
      ],
      "metadata": {
        "id": "c7o5Fik4lT1_"
      },
      "execution_count": 8,
      "outputs": []
    },
    {
      "cell_type": "code",
      "source": [
        "df.printSchema()"
      ],
      "metadata": {
        "colab": {
          "base_uri": "https://localhost:8080/"
        },
        "id": "NzbQ6DQYk7_P",
        "outputId": "5ecaa88e-764c-4b18-c6dc-c293fb00d054"
      },
      "execution_count": 6,
      "outputs": [
        {
          "output_type": "stream",
          "name": "stdout",
          "text": [
            "root\n",
            " |-- iso_code: string (nullable = true)\n",
            " |-- continent: string (nullable = true)\n",
            " |-- location: string (nullable = true)\n",
            " |-- date: date (nullable = true)\n",
            " |-- total_cases: double (nullable = true)\n",
            " |-- new_cases: double (nullable = true)\n",
            " |-- new_cases_smoothed: double (nullable = true)\n",
            " |-- total_deaths: double (nullable = true)\n",
            " |-- new_deaths: double (nullable = true)\n",
            " |-- new_deaths_smoothed: double (nullable = true)\n",
            " |-- total_cases_per_million: double (nullable = true)\n",
            " |-- new_cases_per_million: double (nullable = true)\n",
            " |-- new_cases_smoothed_per_million: double (nullable = true)\n",
            " |-- total_deaths_per_million: double (nullable = true)\n",
            " |-- new_deaths_per_million: double (nullable = true)\n",
            " |-- new_deaths_smoothed_per_million: double (nullable = true)\n",
            " |-- reproduction_rate: double (nullable = true)\n",
            " |-- icu_patients: double (nullable = true)\n",
            " |-- icu_patients_per_million: double (nullable = true)\n",
            " |-- hosp_patients: double (nullable = true)\n",
            " |-- hosp_patients_per_million: double (nullable = true)\n",
            " |-- weekly_icu_admissions: double (nullable = true)\n",
            " |-- weekly_icu_admissions_per_million: double (nullable = true)\n",
            " |-- weekly_hosp_admissions: double (nullable = true)\n",
            " |-- weekly_hosp_admissions_per_million: double (nullable = true)\n",
            " |-- new_tests: double (nullable = true)\n",
            " |-- total_tests: double (nullable = true)\n",
            " |-- total_tests_per_thousand: double (nullable = true)\n",
            " |-- new_tests_per_thousand: double (nullable = true)\n",
            " |-- new_tests_smoothed: double (nullable = true)\n",
            " |-- new_tests_smoothed_per_thousand: double (nullable = true)\n",
            " |-- positive_rate: double (nullable = true)\n",
            " |-- tests_per_case: double (nullable = true)\n",
            " |-- tests_units: string (nullable = true)\n",
            " |-- total_vaccinations: double (nullable = true)\n",
            " |-- people_vaccinated: double (nullable = true)\n",
            " |-- people_fully_vaccinated: double (nullable = true)\n",
            " |-- new_vaccinations: double (nullable = true)\n",
            " |-- new_vaccinations_smoothed: double (nullable = true)\n",
            " |-- total_vaccinations_per_hundred: double (nullable = true)\n",
            " |-- people_vaccinated_per_hundred: double (nullable = true)\n",
            " |-- people_fully_vaccinated_per_hundred: double (nullable = true)\n",
            " |-- new_vaccinations_smoothed_per_million: double (nullable = true)\n",
            " |-- stringency_index: double (nullable = true)\n",
            " |-- population: double (nullable = true)\n",
            " |-- population_density: double (nullable = true)\n",
            " |-- median_age: double (nullable = true)\n",
            " |-- aged_65_older: double (nullable = true)\n",
            " |-- aged_70_older: double (nullable = true)\n",
            " |-- gdp_per_capita: double (nullable = true)\n",
            " |-- extreme_poverty: double (nullable = true)\n",
            " |-- cardiovasc_death_rate: double (nullable = true)\n",
            " |-- diabetes_prevalence: double (nullable = true)\n",
            " |-- female_smokers: double (nullable = true)\n",
            " |-- male_smokers: double (nullable = true)\n",
            " |-- handwashing_facilities: double (nullable = true)\n",
            " |-- hospital_beds_per_thousand: double (nullable = true)\n",
            " |-- life_expectancy: double (nullable = true)\n",
            " |-- human_development_index: double (nullable = true)\n",
            "\n"
          ]
        }
      ]
    },
    {
      "cell_type": "markdown",
      "source": [
        "Задание 1"
      ],
      "metadata": {
        "id": "PaE6hYs7lOng"
      }
    },
    {
      "cell_type": "code",
      "source": [
        "df_1 = df.select(\"iso_code\", \"location\", \"population\", \"total_cases\", ((F.col(\"total_cases\") / F.col(\"population\")) * 100).alias(\"% переболевших\"))\\\n",
        "  .where(F.col(\"date\") == '2021-03-31')\\\n",
        "  .sort(F.col(\"% переболевших\").desc()).limit(15)\n",
        "\n",
        "df_1.show()"
      ],
      "metadata": {
        "colab": {
          "base_uri": "https://localhost:8080/"
        },
        "id": "zwWx6OlxX0DO",
        "outputId": "648bfc2a-4ae9-4189-dd0f-e4cd41d7a267"
      },
      "execution_count": 63,
      "outputs": [
        {
          "output_type": "stream",
          "name": "stdout",
          "text": [
            "+--------+-------------+------------+-----------+------------------+\n",
            "|iso_code|     location|  population|total_cases|    % переболевших|\n",
            "+--------+-------------+------------+-----------+------------------+\n",
            "|     AND|      Andorra|     77265.0|    12010.0|15.543907331909661|\n",
            "|     MNE|   Montenegro|    628062.0|    91218.0|14.523725364693293|\n",
            "|     CZE|      Czechia| 1.0708982E7|  1532332.0|14.308848404077997|\n",
            "|     SMR|   San Marino|     33938.0|     4730.0|13.937179562732041|\n",
            "|     SVN|     Slovenia|   2078932.0|   215602.0|10.370805779121204|\n",
            "|     LUX|   Luxembourg|    625976.0|    61642.0| 9.847342390123583|\n",
            "|     ISR|       Israel|   8655541.0|   833105.0| 9.625106044786802|\n",
            "|     USA|United States|3.31002647E8| 3.046221E7| 9.203010995860707|\n",
            "|     SRB|       Serbia|   6804596.0|   600596.0| 8.826328557933492|\n",
            "|     BHR|      Bahrain|   1701583.0|   144445.0| 8.488860079114566|\n",
            "|     PAN|       Panama|   4314768.0|   355051.0| 8.228739065460761|\n",
            "|     PRT|     Portugal| 1.0196707E7|   821722.0| 8.058699735120369|\n",
            "|     EST|      Estonia|   1326539.0|   106424.0| 8.022681579659551|\n",
            "|     SWE|       Sweden|  1.009927E7|   804886.0| 7.969744347858805|\n",
            "|     LTU|    Lithuania|   2722291.0|   216119.0| 7.938864728274825|\n",
            "+--------+-------------+------------+-----------+------------------+\n",
            "\n"
          ]
        }
      ]
    },
    {
      "cell_type": "markdown",
      "source": [
        "Задание 2"
      ],
      "metadata": {
        "id": "qUmu5Qmmq6fs"
      }
    },
    {
      "cell_type": "code",
      "source": [
        "from pyspark.sql import Window\n",
        "\n",
        "window = Window.partitionBy(\"iso_code\", \"location\")\n",
        "\n",
        "df_2 =df.select(\"iso_code\", \"location\", \"new_cases\", \"date\")\\\n",
        "  .where(F.col(\"date\").between('2021-03-25', '2021-03-31'))\n",
        "\n",
        "df_2 = df_2.withColumn(\"max_cases\", F.max(\"new_cases\").over(window))\\\n",
        "  .select(\"date\", \"location\", \"max_cases\")\\\n",
        "  .where((F.col(\"new_cases\") == F.col(\"max_cases\")) & ~(F.col(\"iso_code\").startswith(\"OWID\")))\\\n",
        "  .sort(F.col(\"max_cases\").desc()).limit(10)\n",
        "\n",
        "df_2.show()"
      ],
      "metadata": {
        "colab": {
          "base_uri": "https://localhost:8080/"
        },
        "id": "GuD7vbyhqfoD",
        "outputId": "f481785c-6ef6-4f78-dfbb-a7365030aa65"
      },
      "execution_count": 72,
      "outputs": [
        {
          "output_type": "stream",
          "name": "stdout",
          "text": [
            "+----------+-------------+---------+\n",
            "|      date|     location|max_cases|\n",
            "+----------+-------------+---------+\n",
            "|2021-03-25|       Brazil| 100158.0|\n",
            "|2021-03-26|United States|  77321.0|\n",
            "|2021-03-31|        India|  72330.0|\n",
            "|2021-03-31|       France|  59054.0|\n",
            "|2021-03-31|       Turkey|  39302.0|\n",
            "|2021-03-26|       Poland|  35145.0|\n",
            "|2021-03-31|      Germany|  25014.0|\n",
            "|2021-03-26|        Italy|  24076.0|\n",
            "|2021-03-25|         Peru|  19206.0|\n",
            "|2021-03-26|      Ukraine|  18226.0|\n",
            "+----------+-------------+---------+\n",
            "\n"
          ]
        }
      ]
    },
    {
      "cell_type": "markdown",
      "source": [
        "Задание 3"
      ],
      "metadata": {
        "id": "pM1IIbtu4AIW"
      }
    },
    {
      "cell_type": "code",
      "source": [
        "w = Window.orderBy(\"date\")\n",
        "\n",
        "df_3 = df.select(\"date\", \"new_cases\" )\\\n",
        "  .where((F.col(\"iso_code\") == 'RUS') & (F.col(\"date\").between('2021-03-24', '2021-03-31')))\n",
        "\n",
        "df_3 = df_3.withColumn(\"yesterday_cases\", F.lag(\"new_cases\").over(w))\\\n",
        "  .select(\"date\", \"yesterday_cases\", \"new_cases\", (F.col(\"new_cases\") - F.col(\"yesterday_cases\")).alias(\"delta\")).where(F.col(\"delta\").isNotNull())\n",
        "\n",
        "df_3.show()"
      ],
      "metadata": {
        "colab": {
          "base_uri": "https://localhost:8080/"
        },
        "id": "g09zcD1UzJ6U",
        "outputId": "750446ff-1981-45dc-8d5e-64041f703b16"
      },
      "execution_count": 87,
      "outputs": [
        {
          "output_type": "stream",
          "name": "stdout",
          "text": [
            "+----------+---------------+---------+------+\n",
            "|      date|yesterday_cases|new_cases| delta|\n",
            "+----------+---------------+---------+------+\n",
            "|2021-03-25|         8769.0|   9128.0| 359.0|\n",
            "|2021-03-26|         9128.0|   9073.0| -55.0|\n",
            "|2021-03-27|         9073.0|   8783.0|-290.0|\n",
            "|2021-03-28|         8783.0|   8979.0| 196.0|\n",
            "|2021-03-29|         8979.0|   8589.0|-390.0|\n",
            "|2021-03-30|         8589.0|   8162.0|-427.0|\n",
            "|2021-03-31|         8162.0|   8156.0|  -6.0|\n",
            "+----------+---------------+---------+------+\n",
            "\n"
          ]
        }
      ]
    }
  ]
}